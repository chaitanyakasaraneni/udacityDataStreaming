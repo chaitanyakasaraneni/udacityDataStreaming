{
 "cells": [
  {
   "cell_type": "markdown",
   "metadata": {
    "editable": true,
    "ulab": {
     "buttons": {
      "ulab-button-2d7fe143": {
       "bashCommand": "/home/workspace/stedi-application/start.sh",
       "filesToOpen": [],
       "isPreviewButton": false,
       "runInBackground": false,
       "style": "primary",
       "text": "Start Banking Simulation",
       "toggleOffText": "HIDE SOLUTION",
       "toggleOnText": "SHOW SOLUTION"
      },
      "ulab-button-341c8451": {
       "bashCommand": "/home/workspace/startup/startup.sh",
       "filesToOpen": [],
       "isPreviewButton": false,
       "runInBackground": false,
       "style": "primary",
       "text": "Start Kafka",
       "toggleOffText": "HIDE SOLUTION",
       "toggleOnText": "SHOW SOLUTION"
      }
     }
    }
   },
   "source": [
    "# Decode and Join two Base64 Encoded JSON DataFrames  \n",
    "\n",
    "- Click the button to start Kafka: <button id=\"ulab-button-341c8451\" class=\"ulab-btn--primary\"></button>\n",
    "- Start the spark master and spark worker\n",
    "     - From the terminal type: ```/home/workspace/spark/sbin/start-master.sh```\n",
    "     - View the log and copy down the Spark URI\n",
    "     - From the terminal type: ```/home/workspace/spark/sbin/start-slave.sh [Spark URI]```\n",
    "- Start the Banking Simulation: <button id=\"ulab-button-2d7fe143\" class=\"ulab-btn--primary\"></button>\n",
    "- Complete the current-country.py python script\n",
    "- Submit the application to the spark cluster:\n",
    "     - From the terminal type: \n",
    "     ```/home/workspace/submit-current-country.sh```\n",
    "- Watch the terminal for the values to scroll past (may take 2-3 minutes)\n",
    "    "
   ]
  },
  {
   "cell_type": "code",
   "execution_count": null,
   "metadata": {
    "editable": true
   },
   "outputs": [],
   "source": []
  }
 ],
 "metadata": {
  "kernelspec": {
   "display_name": "Python 3",
   "language": "python",
   "name": "python3"
  },
  "language_info": {
   "codemirror_mode": {
    "name": "ipython",
    "version": 3
   },
   "file_extension": ".py",
   "mimetype": "text/x-python",
   "name": "python",
   "nbconvert_exporter": "python",
   "pygments_lexer": "ipython3",
   "version": "3.7.3"
  }
 },
 "nbformat": 4,
 "nbformat_minor": 4
}
